{
 "cells": [
  {
   "cell_type": "markdown",
   "metadata": {},
   "source": [
    "# Notebook used for prototyping (ignore)"
   ]
  },
  {
   "cell_type": "code",
   "execution_count": 4,
   "metadata": {},
   "outputs": [],
   "source": [
    "# from tensorflow.keras.models import Model, load_model\n",
    "from tensorflow.keras.applications.vgg16 import VGG16"
   ]
  },
  {
   "cell_type": "code",
   "execution_count": 9,
   "metadata": {},
   "outputs": [
    {
     "data": {
      "text/plain": [
       "[<tensorflow.python.keras.engine.input_layer.InputLayer at 0x6e8a44eb8>,\n",
       " <tensorflow.python.keras.layers.convolutional.Conv2D at 0x6e8a44f98>,\n",
       " <tensorflow.python.keras.layers.convolutional.Conv2D at 0x6e8b70710>,\n",
       " <tensorflow.python.keras.layers.pooling.MaxPooling2D at 0x6e8b57ef0>,\n",
       " <tensorflow.python.keras.layers.convolutional.Conv2D at 0x6e8b946a0>,\n",
       " <tensorflow.python.keras.layers.convolutional.Conv2D at 0x6e8bb1f28>,\n",
       " <tensorflow.python.keras.layers.pooling.MaxPooling2D at 0x6e8c24128>,\n",
       " <tensorflow.python.keras.layers.convolutional.Conv2D at 0x6e8c24160>,\n",
       " <tensorflow.python.keras.layers.convolutional.Conv2D at 0x6ec415c18>,\n",
       " <tensorflow.python.keras.layers.convolutional.Conv2D at 0x6ec433c88>,\n",
       " <tensorflow.python.keras.layers.pooling.MaxPooling2D at 0x6ec4715f8>,\n",
       " <tensorflow.python.keras.layers.convolutional.Conv2D at 0x6ec44fc88>,\n",
       " <tensorflow.python.keras.layers.convolutional.Conv2D at 0x6ec493e80>,\n",
       " <tensorflow.python.keras.layers.convolutional.Conv2D at 0x6ec4b1f28>,\n",
       " <tensorflow.python.keras.layers.pooling.MaxPooling2D at 0x6ec4f0f60>,\n",
       " <tensorflow.python.keras.layers.convolutional.Conv2D at 0x6ec4f0860>,\n",
       " <tensorflow.python.keras.layers.convolutional.Conv2D at 0x6ec539e10>,\n",
       " <tensorflow.python.keras.layers.convolutional.Conv2D at 0x63792eb70>,\n",
       " <tensorflow.python.keras.layers.pooling.MaxPooling2D at 0x6378c72e8>]"
      ]
     },
     "execution_count": 9,
     "metadata": {},
     "output_type": "execute_result"
    }
   ],
   "source": [
    "model = VGG16(include_top=False)\n",
    "model.layers"
   ]
  },
  {
   "cell_type": "code",
   "execution_count": 10,
   "metadata": {},
   "outputs": [
    {
     "data": {
      "text/plain": [
       "[<tensorflow.python.keras.engine.input_layer.InputLayer at 0x6380df0f0>,\n",
       " <tensorflow.python.keras.layers.convolutional.Conv2D at 0x638103a90>,\n",
       " <tensorflow.python.keras.layers.convolutional.Conv2D at 0x108ad88d0>,\n",
       " <tensorflow.python.keras.layers.pooling.MaxPooling2D at 0x6380dddd8>,\n",
       " <tensorflow.python.keras.layers.convolutional.Conv2D at 0x6379c7278>,\n",
       " <tensorflow.python.keras.layers.convolutional.Conv2D at 0x6379d2c88>,\n",
       " <tensorflow.python.keras.layers.pooling.MaxPooling2D at 0x6379c5390>,\n",
       " <tensorflow.python.keras.layers.convolutional.Conv2D at 0x6379c5ba8>,\n",
       " <tensorflow.python.keras.layers.convolutional.Conv2D at 0x6375ff5c0>,\n",
       " <tensorflow.python.keras.layers.convolutional.Conv2D at 0x6ec56ceb8>,\n",
       " <tensorflow.python.keras.layers.pooling.MaxPooling2D at 0x6eff6bfd0>,\n",
       " <tensorflow.python.keras.layers.convolutional.Conv2D at 0x6eff6b8d0>,\n",
       " <tensorflow.python.keras.layers.convolutional.Conv2D at 0x6effb0e80>,\n",
       " <tensorflow.python.keras.layers.convolutional.Conv2D at 0x6effe25f8>,\n",
       " <tensorflow.python.keras.layers.pooling.MaxPooling2D at 0x6f0006d68>,\n",
       " <tensorflow.python.keras.layers.convolutional.Conv2D at 0x6f00064a8>,\n",
       " <tensorflow.python.keras.layers.convolutional.Conv2D at 0x6f00446d8>,\n",
       " <tensorflow.python.keras.layers.convolutional.Conv2D at 0x6f0069f60>,\n",
       " <tensorflow.python.keras.layers.pooling.MaxPooling2D at 0x6f00ac400>,\n",
       " <tensorflow.python.keras.layers.core.Flatten at 0x6f00ac198>,\n",
       " <tensorflow.python.keras.layers.core.Dense at 0x6f00ca940>,\n",
       " <tensorflow.python.keras.layers.core.Dense at 0x6f00e8b38>,\n",
       " <tensorflow.python.keras.layers.core.Dense at 0x6f0116208>]"
      ]
     },
     "execution_count": 10,
     "metadata": {},
     "output_type": "execute_result"
    }
   ],
   "source": [
    "model = VGG16()\n",
    "model.layers"
   ]
  },
  {
   "cell_type": "code",
   "execution_count": 15,
   "metadata": {},
   "outputs": [
    {
     "data": {
      "text/plain": [
       "[<tensorflow.python.keras.engine.input_layer.InputLayer at 0x6380df0f0>,\n",
       " <tensorflow.python.keras.layers.convolutional.Conv2D at 0x638103a90>,\n",
       " <tensorflow.python.keras.layers.convolutional.Conv2D at 0x108ad88d0>,\n",
       " <tensorflow.python.keras.layers.pooling.MaxPooling2D at 0x6380dddd8>,\n",
       " <tensorflow.python.keras.layers.convolutional.Conv2D at 0x6379c7278>,\n",
       " <tensorflow.python.keras.layers.convolutional.Conv2D at 0x6379d2c88>,\n",
       " <tensorflow.python.keras.layers.pooling.MaxPooling2D at 0x6379c5390>,\n",
       " <tensorflow.python.keras.layers.convolutional.Conv2D at 0x6379c5ba8>,\n",
       " <tensorflow.python.keras.layers.convolutional.Conv2D at 0x6375ff5c0>,\n",
       " <tensorflow.python.keras.layers.convolutional.Conv2D at 0x6ec56ceb8>,\n",
       " <tensorflow.python.keras.layers.pooling.MaxPooling2D at 0x6eff6bfd0>,\n",
       " <tensorflow.python.keras.layers.convolutional.Conv2D at 0x6eff6b8d0>,\n",
       " <tensorflow.python.keras.layers.convolutional.Conv2D at 0x6effb0e80>,\n",
       " <tensorflow.python.keras.layers.convolutional.Conv2D at 0x6effe25f8>,\n",
       " <tensorflow.python.keras.layers.pooling.MaxPooling2D at 0x6f0006d68>,\n",
       " <tensorflow.python.keras.layers.convolutional.Conv2D at 0x6f00064a8>,\n",
       " <tensorflow.python.keras.layers.convolutional.Conv2D at 0x6f00446d8>,\n",
       " <tensorflow.python.keras.layers.convolutional.Conv2D at 0x6f0069f60>,\n",
       " <tensorflow.python.keras.layers.pooling.MaxPooling2D at 0x6f00ac400>,\n",
       " <tensorflow.python.keras.layers.core.Flatten at 0x6f00ac198>]"
      ]
     },
     "execution_count": 15,
     "metadata": {},
     "output_type": "execute_result"
    }
   ],
   "source": [
    "model._layers.pop()\n",
    "model.layers"
   ]
  },
  {
   "cell_type": "code",
   "execution_count": 1,
   "metadata": {},
   "outputs": [],
   "source": [
    "import pandas as pd\n",
    "import pickle"
   ]
  },
  {
   "cell_type": "code",
   "execution_count": 2,
   "metadata": {},
   "outputs": [
    {
     "data": {
      "text/html": [
       "<div>\n",
       "<style scoped>\n",
       "    .dataframe tbody tr th:only-of-type {\n",
       "        vertical-align: middle;\n",
       "    }\n",
       "\n",
       "    .dataframe tbody tr th {\n",
       "        vertical-align: top;\n",
       "    }\n",
       "\n",
       "    .dataframe thead th {\n",
       "        text-align: right;\n",
       "    }\n",
       "</style>\n",
       "<table border=\"1\" class=\"dataframe\">\n",
       "  <thead>\n",
       "    <tr style=\"text-align: right;\">\n",
       "      <th></th>\n",
       "      <th>fname</th>\n",
       "      <th>room</th>\n",
       "    </tr>\n",
       "  </thead>\n",
       "  <tbody>\n",
       "    <tr>\n",
       "      <th>0</th>\n",
       "      <td>images/500.210.76.jpg</td>\n",
       "      <td>[./data/room_scenes/ikea-a-colourful-room-for-...</td>\n",
       "    </tr>\n",
       "    <tr>\n",
       "      <th>1</th>\n",
       "      <td>images/bed/802.538.09.jpg</td>\n",
       "      <td>[./data/room_scenes/ikea-a-colourful-room-for-...</td>\n",
       "    </tr>\n",
       "    <tr>\n",
       "      <th>2</th>\n",
       "      <td>images/802.962.48.jpg</td>\n",
       "      <td>[./data/room_scenes/ikea-a-colourful-room-for-...</td>\n",
       "    </tr>\n",
       "    <tr>\n",
       "      <th>3</th>\n",
       "      <td>images/502.962.97.jpg</td>\n",
       "      <td>[./data/room_scenes/ikea-a-colourful-room-for-...</td>\n",
       "    </tr>\n",
       "    <tr>\n",
       "      <th>4</th>\n",
       "      <td>images/203.086.97.jpg</td>\n",
       "      <td>[./data/room_scenes/ikea-a-colourful-room-for-...</td>\n",
       "    </tr>\n",
       "    <tr>\n",
       "      <th>...</th>\n",
       "      <td>...</td>\n",
       "      <td>...</td>\n",
       "    </tr>\n",
       "    <tr>\n",
       "      <th>2173</th>\n",
       "      <td>images/bed/803.007.16.jpg</td>\n",
       "      <td>[./data/room_scenes/ikea-1364309460463.jpg]</td>\n",
       "    </tr>\n",
       "    <tr>\n",
       "      <th>2174</th>\n",
       "      <td>images/sofa/690.106.19.jpg</td>\n",
       "      <td>[./data/room_scenes/ikea-modern-scandinavian-d...</td>\n",
       "    </tr>\n",
       "    <tr>\n",
       "      <th>2175</th>\n",
       "      <td>images/table/903.020.60.jpg</td>\n",
       "      <td>[./data/room_scenes/ikea-modern-scandinavian-d...</td>\n",
       "    </tr>\n",
       "    <tr>\n",
       "      <th>2176</th>\n",
       "      <td>images/pillow/702.584.83.jpg</td>\n",
       "      <td>[./data/room_scenes/bedroom_choose-your-outfit...</td>\n",
       "    </tr>\n",
       "    <tr>\n",
       "      <th>2177</th>\n",
       "      <td>images/pillow/202.584.85.jpg</td>\n",
       "      <td>[./data/room_scenes/bedroom_choose-your-outfit...</td>\n",
       "    </tr>\n",
       "  </tbody>\n",
       "</table>\n",
       "<p>2178 rows × 2 columns</p>\n",
       "</div>"
      ],
      "text/plain": [
       "                             fname  \\\n",
       "0            images/500.210.76.jpg   \n",
       "1        images/bed/802.538.09.jpg   \n",
       "2            images/802.962.48.jpg   \n",
       "3            images/502.962.97.jpg   \n",
       "4            images/203.086.97.jpg   \n",
       "...                            ...   \n",
       "2173     images/bed/803.007.16.jpg   \n",
       "2174    images/sofa/690.106.19.jpg   \n",
       "2175   images/table/903.020.60.jpg   \n",
       "2176  images/pillow/702.584.83.jpg   \n",
       "2177  images/pillow/202.584.85.jpg   \n",
       "\n",
       "                                                   room  \n",
       "0     [./data/room_scenes/ikea-a-colourful-room-for-...  \n",
       "1     [./data/room_scenes/ikea-a-colourful-room-for-...  \n",
       "2     [./data/room_scenes/ikea-a-colourful-room-for-...  \n",
       "3     [./data/room_scenes/ikea-a-colourful-room-for-...  \n",
       "4     [./data/room_scenes/ikea-a-colourful-room-for-...  \n",
       "...                                                 ...  \n",
       "2173        [./data/room_scenes/ikea-1364309460463.jpg]  \n",
       "2174  [./data/room_scenes/ikea-modern-scandinavian-d...  \n",
       "2175  [./data/room_scenes/ikea-modern-scandinavian-d...  \n",
       "2176  [./data/room_scenes/bedroom_choose-your-outfit...  \n",
       "2177  [./data/room_scenes/bedroom_choose-your-outfit...  \n",
       "\n",
       "[2178 rows x 2 columns]"
      ]
     },
     "execution_count": 2,
     "metadata": {},
     "output_type": "execute_result"
    }
   ],
   "source": [
    "f = open('../data/text_data/item_to_room.p', 'rb')\n",
    "data = pickle.load(f)\n",
    "\n",
    "data2 = {key: [value] for key, value in data.items()}\n",
    "df = pd.DataFrame.from_dict(data2, orient='index').reset_index()\n",
    "df.columns = ['fname', 'room']\n",
    "# df.head(10)\n",
    "data_dir = './data/'\n",
    "\n",
    "df['room'] = df['room'].map(lambda x: [data_dir + line.split('/', 1)[1] for line in x])\n",
    "df"
   ]
  },
  {
   "cell_type": "code",
   "execution_count": 4,
   "metadata": {},
   "outputs": [
    {
     "ename": "AttributeError",
     "evalue": "'list' object has no attribute 'values'",
     "output_type": "error",
     "traceback": [
      "\u001b[0;31m--------------------------\u001b[0m",
      "\u001b[0;31mAttributeError\u001b[0mTraceback (most recent call last)",
      "\u001b[0;32m<ipython-input-4-a091478aa44e>\u001b[0m in \u001b[0;36m<module>\u001b[0;34m\u001b[0m\n\u001b[0;32m----> 1\u001b[0;31m \u001b[0mdf\u001b[0m\u001b[0;34m[\u001b[0m\u001b[0;34m'room'\u001b[0m\u001b[0;34m]\u001b[0m\u001b[0;34m[\u001b[0m\u001b[0;36m10\u001b[0m\u001b[0;34m]\u001b[0m\u001b[0;34m.\u001b[0m\u001b[0mvalues\u001b[0m\u001b[0;34m\u001b[0m\u001b[0;34m\u001b[0m\u001b[0m\n\u001b[0m",
      "\u001b[0;31mAttributeError\u001b[0m: 'list' object has no attribute 'values'"
     ]
    }
   ],
   "source": [
    "df['room'][10].values"
   ]
  },
  {
   "cell_type": "code",
   "execution_count": 4,
   "metadata": {},
   "outputs": [
    {
     "name": "stdout",
     "output_type": "stream",
     "text": [
      "(2178, 2)\n",
      "(1960, 2)\n"
     ]
    }
   ],
   "source": [
    "df2 = df.sample(frac=0.9)\n",
    "print(df.shape)\n",
    "print(df2.shape)"
   ]
  },
  {
   "cell_type": "code",
   "execution_count": 7,
   "metadata": {},
   "outputs": [],
   "source": [
    "from sklearn.model_selection import train_test_split\n",
    "train, test = train_test_split(df, test_size=0.1)"
   ]
  },
  {
   "cell_type": "code",
   "execution_count": 8,
   "metadata": {},
   "outputs": [
    {
     "name": "stdout",
     "output_type": "stream",
     "text": [
      "(1960, 2)\n",
      "(218, 2)\n"
     ]
    }
   ],
   "source": [
    "print(train.shape)\n",
    "print(test.shape)\n"
   ]
  },
  {
   "cell_type": "code",
   "execution_count": 35,
   "metadata": {},
   "outputs": [],
   "source": [
    "from utils import plot_results, save_image, build_montages, load_image\n",
    "# from style_stack import StyleStack\n",
    "import os\n",
    "import matplotlib.pyplot as plt\n",
    "import numpy as np\n",
    "import math\n",
    "\n",
    "FEATURE_LIBRARY_PATH \t= '../output/indexes/feat_lib_chair_/'\n",
    "QUERY_IMAGE_PATH \t\t= '../data/objects/902.782.77.jpg'\n",
    "N_RESULTS \t\t\t\t= 4"
   ]
  },
  {
   "cell_type": "code",
   "execution_count": 39,
   "metadata": {},
   "outputs": [
    {
     "ename": "AssertionError",
     "evalue": "Please enter a number",
     "output_type": "error",
     "traceback": [
      "\u001b[0;31m---------------------------------------------------------------------------\u001b[0m",
      "\u001b[0;31mAssertionError\u001b[0m                            Traceback (most recent call last)",
      "\u001b[0;32m<ipython-input-39-8cd2a22cfed2>\u001b[0m in \u001b[0;36m<module>\u001b[0;34m\u001b[0m\n\u001b[1;32m      1\u001b[0m \u001b[0mnum\u001b[0m \u001b[0;34m=\u001b[0m \u001b[0;34m'1a'\u001b[0m\u001b[0;34m\u001b[0m\u001b[0;34m\u001b[0m\u001b[0m\n\u001b[0;32m----> 2\u001b[0;31m \u001b[0;32massert\u001b[0m \u001b[0mnum\u001b[0m\u001b[0;34m.\u001b[0m\u001b[0misnumeric\u001b[0m\u001b[0;34m(\u001b[0m\u001b[0;34m)\u001b[0m\u001b[0;34m,\u001b[0m \u001b[0;34m'Please enter a number'\u001b[0m\u001b[0;34m\u001b[0m\u001b[0;34m\u001b[0m\u001b[0m\n\u001b[0m",
      "\u001b[0;31mAssertionError\u001b[0m: Please enter a number"
     ]
    }
   ],
   "source": [
    "num = '1a'\n",
    "assert num.isnumeric(), 'Please enter a number'"
   ]
  },
  {
   "cell_type": "code",
   "execution_count": 12,
   "metadata": {},
   "outputs": [],
   "source": [
    "root_path = '../data/couch/'\n",
    "file_paths = [root_path + path for path in os.listdir(root_path)]"
   ]
  },
  {
   "cell_type": "code",
   "execution_count": 34,
   "metadata": {},
   "outputs": [
    {
     "data": {
      "text/plain": [
       "8"
      ]
     },
     "execution_count": 34,
     "metadata": {},
     "output_type": "execute_result"
    }
   ],
   "source": [
    "int('8')\n"
   ]
  },
  {
   "cell_type": "code",
   "execution_count": 13,
   "metadata": {},
   "outputs": [],
   "source": [
    "montage = build_montages(file_paths, (200,200), (10,5))"
   ]
  },
  {
   "cell_type": "code",
   "execution_count": 22,
   "metadata": {},
   "outputs": [
    {
     "data": {
      "text/plain": [
       "(1000, 2000, 3)"
      ]
     },
     "execution_count": 22,
     "metadata": {},
     "output_type": "execute_result"
    }
   ],
   "source": [
    "montage = np.asarray(montage)\n",
    "montage = np.squeeze(montage)\n",
    "type(montage)\n",
    "montage.shape"
   ]
  },
  {
   "cell_type": "code",
   "execution_count": 23,
   "metadata": {},
   "outputs": [
    {
     "data": {
      "text/plain": [
       "<matplotlib.image.AxesImage at 0x1a3b2efa90>"
      ]
     },
     "execution_count": 23,
     "metadata": {},
     "output_type": "execute_result"
    },
    {
     "data": {
      "image/png": "[encoded data removed]",
      "text/plain": [
       "<Figure size 432x288 with 1 Axes>"
      ]
     },
     "metadata": {
      "needs_background": "light"
     },
     "output_type": "display_data"
    }
   ],
   "source": [
    "plt.imshow(montage)"
   ]
  },
  {
   "cell_type": "code",
   "execution_count": 2,
   "metadata": {},
   "outputs": [
    {
     "name": "stdout",
     "output_type": "stream",
     "text": [
      "WARNING:tensorflow:From /Users/yuanhunglo/anaconda/envs/keras/lib/python3.6/site-packages/tensorflow_core/python/ops/resource_variable_ops.py:1630: calling BaseResourceVariable.__init__ (from tensorflow.python.ops.resource_variable_ops) with constraint is deprecated and will be removed in a future version.\n",
      "Instructions for updating:\n",
      "If using Keras pass *_constraint arguments to layers.\n",
      "WARNING:tensorflow:From /Users/yuanhunglo/anaconda/envs/keras/lib/python3.6/site-packages/keras/backend/tensorflow_backend.py:4070: The name tf.nn.max_pool is deprecated. Please use tf.nn.max_pool2d instead.\n",
      "\n",
      "==> Using layers ranging between None\n",
      "WARNING:tensorflow:From /Users/yuanhunglo/anaconda/envs/keras/lib/python3.6/site-packages/keras/backend/tensorflow_backend.py:422: The name tf.global_variables is deprecated. Please use tf.compat.v1.global_variables instead.\n",
      "\n"
     ]
    }
   ],
   "source": [
    "stack = StyleStack.load(FEATURE_LIBRARY_PATH);"
   ]
  },
  {
   "cell_type": "code",
   "execution_count": 3,
   "metadata": {},
   "outputs": [
    {
     "name": "stdout",
     "output_type": "stream",
     "text": [
      "==> Query time: 744.732 ms\n"
     ]
    }
   ],
   "source": [
    "results = stack.query(QUERY_IMAGE_PATH, None, N_RESULTS, write_output=False);    "
   ]
  },
  {
   "cell_type": "code",
   "execution_count": null,
   "metadata": {},
   "outputs": [],
   "source": [
    "results['results_files']"
   ]
  },
  {
   "cell_type": "code",
   "execution_count": null,
   "metadata": {},
   "outputs": [],
   "source": [
    "results"
   ]
  },
  {
   "cell_type": "code",
   "execution_count": 5,
   "metadata": {},
   "outputs": [
    {
     "data": {
      "image/png": "[encoded data removed]",
      "text/plain": [
       "<Figure size 576x576 with 2 Axes>"
      ]
     },
     "metadata": {
      "needs_background": "light"
     },
     "output_type": "display_data"
    }
   ],
   "source": [
    "plot_results(results, N_RESULTS)"
   ]
  },
  {
   "cell_type": "code",
   "execution_count": null,
   "metadata": {},
   "outputs": [],
   "source": [
    "import pickle\n",
    "import os\n",
    "from PIL import Image\n",
    "import matplotlib.pyplot as plt\n",
    "from itertools import islice\n",
    "import pandas as pd\n",
    "from keras.preprocessing.image import ImageDataGenerator"
   ]
  },
  {
   "cell_type": "code",
   "execution_count": null,
   "metadata": {},
   "outputs": [],
   "source": [
    "# make list of all room names\n",
    "room_names = os.listdir('../data/room_scenes/')\n",
    "classes = ['images/room_scenes/' + x for x in room_names]\n",
    "\n",
    "# df = pd.DataFrame(columns=room_names)\n",
    "# make pd series of room_names\n",
    "classes[:3]"
   ]
  },
  {
   "cell_type": "code",
   "execution_count": null,
   "metadata": {
    "scrolled": true
   },
   "outputs": [],
   "source": [
    "f = open('../data/text_data/item_to_room.p', 'rb')\n",
    "data = pickle.load(f)\n",
    "\n",
    "data2 = {key: [value] for key, value in data.items()}\n",
    "df = pd.DataFrame.from_dict(data2, orient='index').reset_index()\n",
    "df.columns = ['fname', 'room']\n",
    "# df.head(10)\n",
    "data_dir = './data/'\n",
    "\n",
    "df['room'] = df['room'].map(lambda x: [data_dir + line.split('/', 1)[1] for line in x])\n",
    "df"
   ]
  },
  {
   "cell_type": "code",
   "execution_count": null,
   "metadata": {},
   "outputs": [],
   "source": [
    "df.iloc[0]['room']"
   ]
  },
  {
   "cell_type": "code",
   "execution_count": null,
   "metadata": {
    "scrolled": true
   },
   "outputs": [],
   "source": [
    "[data_dir + line.split('/', 1)[1] for line in df.iloc[1]['room']]"
   ]
  },
  {
   "cell_type": "code",
   "execution_count": null,
   "metadata": {},
   "outputs": [],
   "source": [
    "a = ['a', 'b', 'c']\n",
    "['d' + x for x in a]"
   ]
  },
  {
   "cell_type": "code",
   "execution_count": null,
   "metadata": {},
   "outputs": [],
   "source": [
    "def make_labels_df():\n",
    "\t\"\"\" make dataframe for ImageDataGenerator \"\"\"\n",
    "\tf = open('../data/text_data/item_to_room.p', 'rb')\n",
    "\tdata = pickle.load(f)\n",
    "\tdata = {key: [value] for key, value in data.items()}\n",
    "\t# make list of all room names\n",
    "\tdf = pd.DataFrame.from_dict(data, orient='index').reset_index()\n",
    "\tdf.columns = ['file_name', 'room_name']\n",
    "\t# clean up file names\n",
    "\tdf['file_name'] = df.file_name.apply(lambda x: x.split('/')[-1])\n",
    "\treturn df"
   ]
  },
  {
   "cell_type": "code",
   "execution_count": null,
   "metadata": {},
   "outputs": [],
   "source": [
    "df2 = make_labels_df()"
   ]
  },
  {
   "cell_type": "code",
   "execution_count": null,
   "metadata": {},
   "outputs": [],
   "source": [
    "df2"
   ]
  },
  {
   "cell_type": "code",
   "execution_count": null,
   "metadata": {},
   "outputs": [],
   "source": [
    "df2 = df['fname']\n",
    "df2 = df2.str.split('/', n=1)\n",
    "df['fname'] = df2.fname.apply(lambda x: x.split('/')[-1])\n",
    "# df2 = df2.get(0)\n",
    "# df2 = df2.str.split('/')\n",
    "# df['room'] = df.room.apply(lambda x: x.str.split('/', n=1))\n",
    "\n"
   ]
  },
  {
   "cell_type": "code",
   "execution_count": null,
   "metadata": {},
   "outputs": [],
   "source": [
    "df.head()"
   ]
  },
  {
   "cell_type": "code",
   "execution_count": null,
   "metadata": {},
   "outputs": [],
   "source": [
    "df.shape"
   ]
  },
  {
   "cell_type": "code",
   "execution_count": null,
   "metadata": {},
   "outputs": [],
   "source": [
    "datagen = ImageDataGenerator(rescale=1./255)\n",
    "\n",
    "train_generator=datagen.flow_from_dataframe(\n",
    "    dataframe=df[:1800],\n",
    "    directory=\"./miml_dataset/images\",\n",
    "    x_col=\"fname\",\n",
    "    y_col=\"room\",\n",
    "    batch_size=32,\n",
    "    seed=42,\n",
    "    shuffle=True,\n",
    "    class_mode=\"categorical\",\n",
    "    classes=[\"desert\", \"mountains\", \"sea\", \"sunset\", \"trees\"],\n",
    "    target_size=(100,100))"
   ]
  },
  {
   "cell_type": "code",
   "execution_count": null,
   "metadata": {},
   "outputs": [],
   "source": []
  },
  {
   "cell_type": "code",
   "execution_count": null,
   "metadata": {},
   "outputs": [],
   "source": []
  },
  {
   "cell_type": "code",
   "execution_count": null,
   "metadata": {},
   "outputs": [],
   "source": []
  },
  {
   "cell_type": "code",
   "execution_count": null,
   "metadata": {},
   "outputs": [],
   "source": []
  },
  {
   "cell_type": "code",
   "execution_count": null,
   "metadata": {},
   "outputs": [],
   "source": []
  },
  {
   "cell_type": "code",
   "execution_count": null,
   "metadata": {},
   "outputs": [],
   "source": []
  },
  {
   "cell_type": "code",
   "execution_count": null,
   "metadata": {},
   "outputs": [],
   "source": [
    "import pickle\n",
    "import os\n",
    "from PIL import Image\n",
    "import matplotlib.pyplot as plt\n",
    "from itertools import islice"
   ]
  },
  {
   "cell_type": "code",
   "execution_count": null,
   "metadata": {},
   "outputs": [],
   "source": [
    "f = open('../data/text_data/item_to_room.p', 'rb')\n",
    "data = pickle.load(f)\n",
    "list(islice(data.items(), 5))"
   ]
  },
  {
   "cell_type": "code",
   "execution_count": null,
   "metadata": {},
   "outputs": [],
   "source": [
    "# make list of all room names\n",
    "room_names = os.listdir('../data/room_scenes/')\n",
    "# make pd series of room_names\n",
    "\n",
    "# if item is in room_names, then add hot encoding\n"
   ]
  },
  {
   "cell_type": "code",
   "execution_count": null,
   "metadata": {},
   "outputs": [],
   "source": [
    "from keras.applications.vgg16 import VGG16\n",
    "from keras.preprocessing import image\n",
    "from keras.applications.vgg16 import preprocess_input\n",
    "from keras.layers import Input, Flatten, Dense\n",
    "from keras.models import Model\n",
    "import numpy as np\n",
    "\n"
   ]
  },
  {
   "cell_type": "code",
   "execution_count": null,
   "metadata": {
    "scrolled": true
   },
   "outputs": [],
   "source": [
    "#Get back the convolutional part of a VGG network trained on ImageNet\n",
    "model_vgg16_conv = VGG16(weights='imagenet', include_top=False)\n",
    "model_vgg16_conv.summary()"
   ]
  },
  {
   "cell_type": "code",
   "execution_count": null,
   "metadata": {},
   "outputs": [],
   "source": [
    "input = Input(shape=(200,200,3), name = 'image_input')"
   ]
  },
  {
   "cell_type": "code",
   "execution_count": null,
   "metadata": {},
   "outputs": [],
   "source": [
    "output_vgg16_conv = model_vgg16_conv(input)"
   ]
  },
  {
   "cell_type": "code",
   "execution_count": null,
   "metadata": {},
   "outputs": [],
   "source": [
    "x = Flatten(name='flatten')(output_vgg16_conv)\n",
    "x = Dense(4096, activation='relu', name='fc1')(x)\n",
    "x = Dense(4096, activation='relu', name='fc2')(x)\n",
    "x = Dense(8, activation='softmax', name='predictions')(x)"
   ]
  },
  {
   "cell_type": "code",
   "execution_count": null,
   "metadata": {},
   "outputs": [],
   "source": [
    "my_model = Model(input=input, output=x)\n"
   ]
  },
  {
   "cell_type": "code",
   "execution_count": null,
   "metadata": {},
   "outputs": [],
   "source": [
    "my_model.summary()\n"
   ]
  },
  {
   "cell_type": "code",
   "execution_count": null,
   "metadata": {},
   "outputs": [],
   "source": [
    "my_model.input"
   ]
  },
  {
   "cell_type": "code",
   "execution_count": null,
   "metadata": {},
   "outputs": [],
   "source": [
    "my_model.output"
   ]
  },
  {
   "cell_type": "code",
   "execution_count": null,
   "metadata": {
    "scrolled": true
   },
   "outputs": [],
   "source": [
    "my_model.get_layer('flatten').output"
   ]
  },
  {
   "cell_type": "code",
   "execution_count": null,
   "metadata": {},
   "outputs": [],
   "source": [
    "layers = dict([(layer.name, layer.output) for layer in model_vgg16_conv.layers])"
   ]
  },
  {
   "cell_type": "code",
   "execution_count": null,
   "metadata": {},
   "outputs": [],
   "source": [
    "t = None\n",
    "if t: \n",
    "    print('yes')\n",
    "else: \n",
    "    print('no')"
   ]
  },
  {
   "cell_type": "code",
   "execution_count": null,
   "metadata": {
    "scrolled": true
   },
   "outputs": [],
   "source": [
    "layer_names = [layer.name for layer in model_vgg16_conv.layers]\n",
    "layer_names\n"
   ]
  },
  {
   "cell_type": "code",
   "execution_count": null,
   "metadata": {},
   "outputs": [],
   "source": [
    "layer_names.index('block5_conv3')\n"
   ]
  },
  {
   "cell_type": "code",
   "execution_count": null,
   "metadata": {},
   "outputs": [],
   "source": [
    "layer_names"
   ]
  },
  {
   "cell_type": "code",
   "execution_count": null,
   "metadata": {},
   "outputs": [],
   "source": [
    "layer_names = [layer.name for layer in self.model.layers]"
   ]
  },
  {
   "cell_type": "code",
   "execution_count": null,
   "metadata": {},
   "outputs": [],
   "source": []
  },
  {
   "cell_type": "code",
   "execution_count": null,
   "metadata": {},
   "outputs": [],
   "source": [
    "# summarize feature map size for each conv layer\n",
    "from keras.applications.vgg16 import VGG16\n",
    "from matplotlib import pyplot\n",
    "from keras.applications.vgg16 import preprocess_input\n",
    "from keras.preprocessing.image import load_img\n",
    "from keras.preprocessing.image import img_to_array\n",
    "from keras.models import Model\n",
    "from matplotlib import pyplot\n",
    "from numpy import expand_dims\n",
    "\n",
    "# # load the model\n",
    "# model = VGG16()\n",
    "# # summarize feature map shapes\n",
    "# for i in range(len(model.layers)):\n",
    "#     layer = model.layers[i]\n",
    "#     # check for convolutional layer\n",
    "#     if 'conv' not in layer.name:\n",
    "#         continue\n",
    "#     # summarize output shape\n",
    "#     print(i, layer.name, layer.output.shape)"
   ]
  },
  {
   "cell_type": "code",
   "execution_count": null,
   "metadata": {},
   "outputs": [],
   "source": [
    "# redefine model to output right after the first hidden layer\n",
    "model = Model(inputs=model.inputs, outputs=model.layers[1].output)"
   ]
  },
  {
   "cell_type": "code",
   "execution_count": null,
   "metadata": {},
   "outputs": [],
   "source": [
    "# load the image with the required shape\n",
    "img = load_img('../data/chair/001.530.69.jpg', target_size=(224, 224))"
   ]
  },
  {
   "cell_type": "code",
   "execution_count": null,
   "metadata": {},
   "outputs": [],
   "source": [
    "# convert the image to an array\n",
    "img = img_to_array(img)\n",
    "# expand dimensions so that it represents a single 'sample'\n",
    "img = expand_dims(img, axis=0)"
   ]
  },
  {
   "cell_type": "code",
   "execution_count": null,
   "metadata": {},
   "outputs": [],
   "source": [
    "# prepare the image (e.g. scale pixel values for the vgg)\n",
    "img = preprocess_input(img)"
   ]
  },
  {
   "cell_type": "code",
   "execution_count": null,
   "metadata": {},
   "outputs": [],
   "source": [
    "# get feature map for first hidden layer\n",
    "feature_maps = model.predict(img)"
   ]
  },
  {
   "cell_type": "code",
   "execution_count": null,
   "metadata": {},
   "outputs": [],
   "source": [
    "# plot all 64 maps in an 8x8 squares\n",
    "square = 8\n",
    "ix = 1\n",
    "for _ in range(square):\n",
    "    for _ in range(square):\n",
    "        # specify subplot and turn of axis\n",
    "        ax = pyplot.subplot(square, square, ix)\n",
    "        ax.set_xticks([])\n",
    "        ax.set_yticks([])\n",
    "        # plot filter channel in grayscale\n",
    "        pyplot.imshow(feature_maps[0, :, :, ix-1], cmap='gray')\n",
    "        ix += 1\n",
    "# show the figure\n",
    "pyplot.show()"
   ]
  },
  {
   "cell_type": "code",
   "execution_count": null,
   "metadata": {},
   "outputs": [],
   "source": [
    "# redefine model to output right after the first hidden layer\n",
    "model = VGG16(weights='imagenet')\n",
    "# ixs = [2, 5, 9, 13, 17]\n",
    "# outputs = [model.layers[i+1].output for i in ixs]\n",
    "# model = Model(inputs=model.inputs, outputs=outputs)\n",
    "model.summary()"
   ]
  },
  {
   "cell_type": "code",
   "execution_count": null,
   "metadata": {},
   "outputs": [],
   "source": [
    "model2 = Model(inputs=model.input, outputs=model.get_layer('block4_pool').output)"
   ]
  },
  {
   "cell_type": "code",
   "execution_count": null,
   "metadata": {},
   "outputs": [],
   "source": [
    "model2.summary()"
   ]
  },
  {
   "cell_type": "code",
   "execution_count": null,
   "metadata": {},
   "outputs": [],
   "source": [
    "# visualize feature maps output from each block in the vgg model\n",
    "from keras.applications.vgg16 import VGG16\n",
    "from keras.applications.vgg16 import preprocess_input\n",
    "from keras.preprocessing.image import load_img\n",
    "from keras.preprocessing.image import img_to_array\n",
    "from keras.models import Model\n",
    "from matplotlib import pyplot\n",
    "from numpy import expand_dims\n",
    "from PIL import Image\n",
    "\n",
    "%matplotlib inline"
   ]
  },
  {
   "cell_type": "code",
   "execution_count": null,
   "metadata": {},
   "outputs": [],
   "source": [
    "# load the model\n",
    "model = VGG16()\n",
    "# redefine model to output right after the first hidden layer\n",
    "ixs = [2, 5, 9, 13, 17]\n",
    "outputs = [model.layers[i].output for i in ixs]\n",
    "model = Model(inputs=model.inputs, outputs=outputs)\n"
   ]
  },
  {
   "cell_type": "code",
   "execution_count": null,
   "metadata": {},
   "outputs": [],
   "source": [
    "# load the image with the required shape\n",
    "# img = load_img('../data/dining_table/302.608.07.jpg', target_size=(224, 224))\n",
    "img = load_img('../data/chair/202.016.82.jpg', target_size=(224, 224))\n",
    "# convert the image to an array\n",
    "img = img_to_array(img)\n",
    "# expand dimensions so that it represents a single 'sample'\n",
    "img = expand_dims(img, axis=0)\n",
    "# prepare the image (e.g. scale pixel values for the vgg)\n",
    "img = preprocess_input(img)\n",
    "# get feature map for first hidden layer\n",
    "feature_maps = model.predict(img)\n",
    "# plot the output from each block\n",
    "square = 8\n",
    "c = 1\n",
    "for fmap in feature_maps[:1]:\n",
    "    # plot all 64 maps in an 8x8 squares\n",
    "    ix = 1\n",
    "    pyplot.figure(figsize=(8, 6))            \n",
    "    for _ in range(square):\n",
    "        for _ in range(square):\n",
    "            # specify subplot and turn of axis\n",
    "            ax = pyplot.subplot(square, square, ix)\n",
    "            ax.set_xticks([])\n",
    "            ax.set_yticks([])\n",
    "            # plot filter channel in grayscale\n",
    "            pyplot.imshow(fmap[0, :, :, ix-1], cmap='gray')\n",
    "            ix += 1\n",
    "    pyplot.suptitle(f'c_conv_filter_layer_{c}.png')\n",
    "    pyplot.savefig(f'c_conv_filter_layer_{c}.png', dpi=300)\n",
    "    # show the figure\n",
    "    print(f'{c}')\n",
    "#     pyplot.show()\n",
    "\n",
    "    c += 1"
   ]
  },
  {
   "cell_type": "code",
   "execution_count": null,
   "metadata": {},
   "outputs": [],
   "source": [
    "LAYER_NAMES \t\t\t= ['block1_conv1', 'block1_conv2']\n",
    "QUERY_IMAGE_PATH \t\t= '../data/couch/091.302.38.jpg'\n",
    "LIB_TYPE \t\t\t\t= 'dining_table'\n",
    "IMAGE_LIBRARY_PATH \t\t= '../data/' + LIB_TYPE + '/'\n",
    "FEATURE_LIBRARY_PATH \t= '../output/indexes/feat_lib_' + LIB_TYPE + '/'\n",
    "# OUTPUT_IMAGE_PATH \t\t= '../output/out-' + time.strftime('%Y%m%d-%H%M') + '.png'\n",
    "OUTPUT_IMAGE_PATH\t\t= f'../output/out-{LAYER_NAMES[0]}-{LAYER_NAMES[1]}'"
   ]
  },
  {
   "cell_type": "code",
   "execution_count": null,
   "metadata": {},
   "outputs": [],
   "source": [
    "OUTPUT_IMAGE_PATH\n"
   ]
  },
  {
   "cell_type": "code",
   "execution_count": null,
   "metadata": {},
   "outputs": [],
   "source": []
  },
  {
   "cell_type": "code",
   "execution_count": null,
   "metadata": {},
   "outputs": [],
   "source": [
    "import warnings\n",
    "warnings.filterwarnings(action='once')\n",
    "\n",
    "from keras.applications import VGG16\n",
    "from keras.applications.imagenet_utils import preprocess_input\n",
    "from keras.utils import plot_model\n",
    "from keras.models import Model\n",
    "from keras.preprocessing import image\n",
    "import matplotlib.pyplot as plt\n",
    "import numpy as np\n",
    "import os\n",
    "import random\n",
    "from sklearn.decomposition import PCA\n",
    "from scipy.spatial import distance\n",
    "from PIL import Image\n",
    "\n",
    "from utils import get_image_paths, load_image, get_concatenated_images, plot_results, pdf_results\n",
    "from configs import *\n",
    "from run_style_similarity_search import *\n",
    "from style_stack import StyleStack"
   ]
  },
  {
   "cell_type": "code",
   "execution_count": null,
   "metadata": {},
   "outputs": [],
   "source": [
    "# initialize model\n",
    "image_paths = get_image_paths('../data/bed')\n",
    "model = VGG16(weights='imagenet', include_top=True)\n",
    "layer_name, style_feature_model = get_embedding_model(model, 1)"
   ]
  },
  {
   "cell_type": "code",
   "execution_count": null,
   "metadata": {},
   "outputs": [],
   "source": [
    "# generate style embeddings\n",
    "valid_image_paths, style_embeddings = generate_embeddings(style_feature_model, image_paths)\n",
    "query_image_idx = int(len(valid_image_paths) * random.random())"
   ]
  },
  {
   "cell_type": "code",
   "execution_count": null,
   "metadata": {},
   "outputs": [],
   "source": [
    "# generate style features w/ PCA\n",
    "style_features = pca(style_embeddings, None)"
   ]
  },
  {
   "cell_type": "code",
   "execution_count": null,
   "metadata": {},
   "outputs": [],
   "source": [
    "# find similarity from PCA features based on cosine sim.\n",
    "closest_image_indices_style = get_closest_indices(query_image_idx, style_features)"
   ]
  },
  {
   "cell_type": "code",
   "execution_count": null,
   "metadata": {},
   "outputs": [],
   "source": [
    "# save results\n",
    "results_image_paths_style = [valid_image_paths[i] for i in closest_image_indices_style]\n",
    "save_image(results_image_paths_style)"
   ]
  },
  {
   "cell_type": "markdown",
   "metadata": {},
   "source": [
    "# Modify StyleStack"
   ]
  },
  {
   "cell_type": "code",
   "execution_count": null,
   "metadata": {},
   "outputs": [],
   "source": [
    "# build parameters\n",
    "image_dir = '../data/chair'\n",
    "model = VGG16(weights='imagenet', include_top=False)\n",
    "lib_name = 'raw'\n",
    "n_results = 5"
   ]
  },
  {
   "cell_type": "code",
   "execution_count": null,
   "metadata": {},
   "outputs": [],
   "source": [
    "# build, save, re-load, query, and plot\n",
    "stack = StyleStack.build(image_dir, model)\n",
    "stack.save(lib_name)\n",
    "del stack"
   ]
  },
  {
   "cell_type": "code",
   "execution_count": null,
   "metadata": {},
   "outputs": [],
   "source": [
    "# \n",
    "stack = StyleStack.load(lib_name);\n",
    "query_image_path = '../data/dining_table/902.224.07.jpg'\n",
    "results = stack.query(query_image_path, None, n_results, write_output=False);"
   ]
  },
  {
   "cell_type": "code",
   "execution_count": null,
   "metadata": {},
   "outputs": [],
   "source": [
    "# save results\n",
    "OUTPUT_DIR = '../output/'\n",
    "save_image([query_image_path] + results['results_files'], OUTPUT_DIR+'table_chair_4.png')"
   ]
  },
  {
   "cell_type": "code",
   "execution_count": null,
   "metadata": {},
   "outputs": [],
   "source": [
    "import pickle"
   ]
  },
  {
   "cell_type": "code",
   "execution_count": null,
   "metadata": {},
   "outputs": [],
   "source": [
    "f = open('../data/text_data/products_dict.p', 'rb')\n",
    "data = pickle.load(f)\n",
    "data;"
   ]
  },
  {
   "cell_type": "code",
   "execution_count": null,
   "metadata": {},
   "outputs": [],
   "source": [
    "data['002.500.46']"
   ]
  },
  {
   "cell_type": "code",
   "execution_count": null,
   "metadata": {},
   "outputs": [],
   "source": [
    "data['002.392.33']"
   ]
  },
  {
   "cell_type": "code",
   "execution_count": null,
   "metadata": {},
   "outputs": [],
   "source": [
    "data['690.272.95']"
   ]
  },
  {
   "cell_type": "markdown",
   "metadata": {},
   "source": [
    "# Seeing all the furnitures in a room"
   ]
  },
  {
   "cell_type": "code",
   "execution_count": null,
   "metadata": {},
   "outputs": [],
   "source": [
    "import pickle\n",
    "import os\n",
    "from PIL import Image\n",
    "import matplotlib.pyplot as plt"
   ]
  },
  {
   "cell_type": "code",
   "execution_count": null,
   "metadata": {
    "scrolled": false
   },
   "outputs": [],
   "source": [
    "from itertools import islice\n",
    "f = open('../data/text_data/item_to_room.p', 'rb')\n",
    "data = pickle.load(f)\n",
    "list(islice(data.items(), 5))"
   ]
  },
  {
   "cell_type": "code",
   "execution_count": null,
   "metadata": {},
   "outputs": [],
   "source": [
    "search_img = 'images/room_scenes/ikea-a-neat-and-space-saving-desk-in-natural-bamboo__1364309611116-s4.jpg'\n",
    "# search_img = 'images/room_scenes/ikea-a-grab-and-go-hallway-for-all-the-family__1364309608195-s4.jpg'\n",
    "# search_img = 'images/room_scenes/ikea-a-setting-as-traditional-as-your-sunday-roast__1364308405892-s4.jpg'\n",
    "\n",
    "for img_fname, room_fname in data.items():\n",
    "#     if room == ['images/room_scenes/ikea-a-neat-and-space-saving-desk-in-natural-bamboo__1364309611116-s4.jpg']:\n",
    "#     if room == ['images/room_scenes/ikea-wake-up-ready__1364335382972-s4.jpg']:\n",
    "    if search_img in room_fname:\n",
    "        for root, dirs, files in os.walk('../data/'):\n",
    "            for file in files:\n",
    "                if file in img_fname[-14:]:\n",
    "                    fpath = os.path.join(root, file)\n",
    "#                     print(fpath)\n",
    "                    img = Image.open(fpath)\n",
    "                    plt.figure(figsize=(6,4))\n",
    "                    plt.imshow(img)\n",
    "                    plt.title(fpath)"
   ]
  },
  {
   "cell_type": "code",
   "execution_count": null,
   "metadata": {
    "scrolled": true
   },
   "outputs": [],
   "source": [
    "img[-14:]"
   ]
  },
  {
   "cell_type": "markdown",
   "metadata": {},
   "source": [
    "# create furniture labels"
   ]
  },
  {
   "cell_type": "markdown",
   "metadata": {},
   "source": [
    "# check style transfer pipeline"
   ]
  },
  {
   "cell_type": "code",
   "execution_count": null,
   "metadata": {},
   "outputs": [],
   "source": [
    "from keras import backend\n",
    "import numpy as np"
   ]
  },
  {
   "cell_type": "code",
   "execution_count": null,
   "metadata": {},
   "outputs": [],
   "source": [
    "IMAGE_HEIGHT = IMAGE_WIDTH = 300\n",
    "input_image = Image.open('../data/bed/001.024.52.jpg')\n",
    "input_image = input_image.resize((IMAGE_WIDTH, IMAGE_HEIGHT))\n",
    "input_image_array = np.asarray(input_image, dtype=\"float32\")\n",
    "input_image_array = np.expand_dims(input_image_array, axis=0)\n",
    "input_image_array = input_image_array[:, :, :, ::-1]\n",
    "\n",
    "style_image = Image.open('../data/bed/001.626.34.jpg')\n",
    "style_image = style_image.resize((IMAGE_WIDTH, IMAGE_HEIGHT))\n",
    "style_image_array = np.asarray(style_image, dtype=\"float32\")\n",
    "style_image_array = np.expand_dims(style_image_array, axis=0)\n",
    "# style_image_array[:, :, :, 0] -= IMAGENET_MEAN_RGB_VALUES[2]\n",
    "# style_image_array[:, :, :, 1] -= IMAGENET_MEAN_RGB_VALUES[1]\n",
    "# style_image_array[:, :, :, 2] -= IMAGENET_MEAN_RGB_VALUES[0]\n",
    "style_image_array = style_image_array[:, :, :, ::-1]"
   ]
  },
  {
   "cell_type": "code",
   "execution_count": null,
   "metadata": {},
   "outputs": [],
   "source": [
    "style_image_array.shape"
   ]
  },
  {
   "cell_type": "code",
   "execution_count": null,
   "metadata": {},
   "outputs": [],
   "source": [
    "CONTENT_LAYER = \"block2_conv2\"\n",
    "STYLE_LAYERS = [\"block1_conv2\", \"block2_conv2\", \"block3_conv3\", \"block4_conv3\", \"block5_conv3\"]\n",
    "CONTENT_WEIGHT = 0.5\n",
    "\n",
    "input_image = backend.variable(input_image_array)\n",
    "style_image = backend.variable(style_image_array)\n",
    "combination_image = backend.placeholder((1, IMAGE_HEIGHT, IMAGE_WIDTH, 3))\n",
    "\n",
    "# Load pre-trained VGG16\n",
    "input_tensor = backend.concatenate([input_image, style_image, combination_image], axis=0)\n",
    "model = VGG16(input_tensor=input_tensor, include_top=False)\n",
    "layers = dict([(layer.name, layer.output) for layer in model.layers])\n",
    "loss = backend.variable(0.)\n",
    "\n",
    "# Define content layer and loss\n",
    "layer_features = layers[CONTENT_LAYER]\n",
    "content_image_features = layer_features[0, :, :, :]\n",
    "combination_features = layer_features[2, :, :, :]\n",
    "# loss = loss + CONTENT_WEIGHT * content_loss(content_image_features, combination_features)"
   ]
  },
  {
   "cell_type": "code",
   "execution_count": null,
   "metadata": {
    "scrolled": true
   },
   "outputs": [],
   "source": [
    "# content_image_features\n",
    "layers"
   ]
  },
  {
   "cell_type": "code",
   "execution_count": null,
   "metadata": {},
   "outputs": [],
   "source": [
    "for fmap in feature_maps:\n",
    "    # plot all 64 maps in an 8x8 squares\n",
    "    ix = 1\n",
    "    pyplot.figure(figsize=(8, 6))            \n",
    "    for _ in range(square):\n",
    "        for _ in range(square):\n",
    "            # specify subplot and turn of axis\n",
    "            ax = pyplot.subplot(square, square, ix)\n",
    "            ax.set_xticks([])\n",
    "            ax.set_yticks([])\n",
    "            # plot filter channel in grayscale\n",
    "            pyplot.imshow(fmap[0, :, :, ix-1], cmap='gray')\n",
    "            ix += 1"
   ]
  }
 ],
 "metadata": {
  "kernelspec": {
   "display_name": "Python [conda env:tf]",
   "language": "python",
   "name": "conda-env-tf-py"
  },
  "language_info": {
   "codemirror_mode": {
    "name": "ipython",
    "version": 3
   },
   "file_extension": ".py",
   "mimetype": "text/x-python",
   "name": "python",
   "nbconvert_exporter": "python",
   "pygments_lexer": "ipython3",
   "version": "3.6.10"
  }
 },
 "nbformat": 4,
 "nbformat_minor": 2
}
